{
 "cells": [
  {
   "cell_type": "code",
   "execution_count": 2,
   "metadata": {},
   "outputs": [],
   "source": [
    "import os\n",
    "import numpy as np\n",
    "import time\n",
    "from TimSort import timsort\n",
    "from quad_heap import heap_sort\n",
    "from rand_quicksort import rand_QS\n",
    "from three_way_time import threeWay"
   ]
  },
  {
   "cell_type": "code",
   "execution_count": 3,
   "metadata": {},
   "outputs": [
    {
     "name": "stdout",
     "output_type": "stream",
     "text": [
      "Generated arrays in 'floatarrays' directory.\n"
     ]
    }
   ],
   "source": [
    "# Directory to save generated arrays\n",
    "ARRAY_DIR = \"floatarrays\"\n",
    "os.makedirs(ARRAY_DIR, exist_ok=True)\n",
    "\n",
    "# Sorting algorithms to test\n",
    "SORTING_ALGORITHMS = {\n",
    "    \"TimSort\": timsort,\n",
    "    \"Quad Heap\": heap_sort,\n",
    "    \"Randomized QuickSort\": rand_QS,\n",
    "    \"Three-Way Merge\": threeWay,\n",
    "    \"Python Built-in\": lambda arr: arr.sort(),\n",
    "}\n",
    "\n",
    "# Array sizes: 2^20 to 2^27\n",
    "SIZES = [2**i for i in range(20, 28)]\n",
    "\n",
    "# Generate and save arrays\n",
    "for size in SIZES:\n",
    "    arr = np.random.rand(size).astype(np.float64)\n",
    "    np.save(os.path.join(ARRAY_DIR, f\"array_2^{size.bit_length()-1}.npy\"), arr)\n",
    "\n",
    "print(f\"Generated arrays in '{ARRAY_DIR}' directory.\")"
   ]
  },
  {
   "cell_type": "code",
   "execution_count": 6,
   "metadata": {},
   "outputs": [
    {
     "name": "stdout",
     "output_type": "stream",
     "text": [
      "        Size |              TimSort |            Quad Heap | Randomized QuickSort |      Three-Way Merge |      Python Built-in\n",
      "-------------------------------------------------------------------------------------------------------------------------------\n",
      "     1048576 |               3.8816s |               8.2204s |               3.4433s |              13.4340s |               0.2236s\n",
      "     2097152 |               9.1561s |              17.9510s |               7.4349s |              28.6843s |               0.5009s\n",
      "     4194304 |              20.5777s |              39.5824s |              16.1348s |              60.0150s |               1.0977s\n",
      "     8388608 |              46.2002s |              89.1727s |              35.3018s |             124.4200s |               2.0725s\n",
      "    16777216 |              83.7137s |             158.1807s |              73.6968s |             259.7362s |               4.7166s\n"
     ]
    },
    {
     "ename": "KeyboardInterrupt",
     "evalue": "",
     "output_type": "error",
     "traceback": [
      "\u001b[0;31m---------------------------------------------------------------------------\u001b[0m",
      "\u001b[0;31mKeyboardInterrupt\u001b[0m                         Traceback (most recent call last)",
      "Cell \u001b[0;32mIn[6], line 19\u001b[0m\n\u001b[1;32m     17\u001b[0m data \u001b[38;5;241m=\u001b[39m arr\u001b[38;5;241m.\u001b[39mcopy()\u001b[38;5;241m.\u001b[39mtolist()\n\u001b[1;32m     18\u001b[0m start \u001b[38;5;241m=\u001b[39m time\u001b[38;5;241m.\u001b[39mperf_counter()\n\u001b[0;32m---> 19\u001b[0m \u001b[43msort_fn\u001b[49m\u001b[43m(\u001b[49m\u001b[43mdata\u001b[49m\u001b[43m)\u001b[49m\n\u001b[1;32m     20\u001b[0m end \u001b[38;5;241m=\u001b[39m time\u001b[38;5;241m.\u001b[39mperf_counter()\n\u001b[1;32m     21\u001b[0m elapsed \u001b[38;5;241m=\u001b[39m end \u001b[38;5;241m-\u001b[39m start\n",
      "File \u001b[0;32m~/Library/CloudStorage/OneDrive-Personal/Documents/Outsource/Python/CS361/361-Final-Project/three_way_time.py:57\u001b[0m, in \u001b[0;36mthreeWay\u001b[0;34m(arr)\u001b[0m\n\u001b[1;32m     55\u001b[0m l \u001b[38;5;241m=\u001b[39m threeWay(arr[:mp1]) \u001b[38;5;66;03m# grab beginning to mp1\u001b[39;00m\n\u001b[1;32m     56\u001b[0m m \u001b[38;5;241m=\u001b[39m threeWay(arr[mp1:mp2]) \u001b[38;5;66;03m# slice from mp1 to mp2\u001b[39;00m\n\u001b[0;32m---> 57\u001b[0m r \u001b[38;5;241m=\u001b[39m \u001b[43mthreeWay\u001b[49m\u001b[43m(\u001b[49m\u001b[43marr\u001b[49m\u001b[43m[\u001b[49m\u001b[43mmp2\u001b[49m\u001b[43m:\u001b[49m\u001b[43m]\u001b[49m\u001b[43m)\u001b[49m \u001b[38;5;66;03m# array from second \"midpoint\" to end\u001b[39;00m\n\u001b[1;32m     59\u001b[0m \u001b[38;5;28;01mreturn\u001b[39;00m merge3Arrs(l,m,r)\n",
      "File \u001b[0;32m~/Library/CloudStorage/OneDrive-Personal/Documents/Outsource/Python/CS361/361-Final-Project/three_way_time.py:55\u001b[0m, in \u001b[0;36mthreeWay\u001b[0;34m(arr)\u001b[0m\n\u001b[1;32m     52\u001b[0m mp1 \u001b[38;5;241m=\u001b[39m divPoint \n\u001b[1;32m     53\u001b[0m mp2 \u001b[38;5;241m=\u001b[39m divPoint\u001b[38;5;241m*\u001b[39m\u001b[38;5;241m2\u001b[39m\n\u001b[0;32m---> 55\u001b[0m l \u001b[38;5;241m=\u001b[39m \u001b[43mthreeWay\u001b[49m\u001b[43m(\u001b[49m\u001b[43marr\u001b[49m\u001b[43m[\u001b[49m\u001b[43m:\u001b[49m\u001b[43mmp1\u001b[49m\u001b[43m]\u001b[49m\u001b[43m)\u001b[49m \u001b[38;5;66;03m# grab beginning to mp1\u001b[39;00m\n\u001b[1;32m     56\u001b[0m m \u001b[38;5;241m=\u001b[39m threeWay(arr[mp1:mp2]) \u001b[38;5;66;03m# slice from mp1 to mp2\u001b[39;00m\n\u001b[1;32m     57\u001b[0m r \u001b[38;5;241m=\u001b[39m threeWay(arr[mp2:]) \u001b[38;5;66;03m# array from second \"midpoint\" to end\u001b[39;00m\n",
      "File \u001b[0;32m~/Library/CloudStorage/OneDrive-Personal/Documents/Outsource/Python/CS361/361-Final-Project/three_way_time.py:56\u001b[0m, in \u001b[0;36mthreeWay\u001b[0;34m(arr)\u001b[0m\n\u001b[1;32m     53\u001b[0m mp2 \u001b[38;5;241m=\u001b[39m divPoint\u001b[38;5;241m*\u001b[39m\u001b[38;5;241m2\u001b[39m\n\u001b[1;32m     55\u001b[0m l \u001b[38;5;241m=\u001b[39m threeWay(arr[:mp1]) \u001b[38;5;66;03m# grab beginning to mp1\u001b[39;00m\n\u001b[0;32m---> 56\u001b[0m m \u001b[38;5;241m=\u001b[39m \u001b[43mthreeWay\u001b[49m\u001b[43m(\u001b[49m\u001b[43marr\u001b[49m\u001b[43m[\u001b[49m\u001b[43mmp1\u001b[49m\u001b[43m:\u001b[49m\u001b[43mmp2\u001b[49m\u001b[43m]\u001b[49m\u001b[43m)\u001b[49m \u001b[38;5;66;03m# slice from mp1 to mp2\u001b[39;00m\n\u001b[1;32m     57\u001b[0m r \u001b[38;5;241m=\u001b[39m threeWay(arr[mp2:]) \u001b[38;5;66;03m# array from second \"midpoint\" to end\u001b[39;00m\n\u001b[1;32m     59\u001b[0m \u001b[38;5;28;01mreturn\u001b[39;00m merge3Arrs(l,m,r)\n",
      "File \u001b[0;32m~/Library/CloudStorage/OneDrive-Personal/Documents/Outsource/Python/CS361/361-Final-Project/three_way_time.py:55\u001b[0m, in \u001b[0;36mthreeWay\u001b[0;34m(arr)\u001b[0m\n\u001b[1;32m     52\u001b[0m mp1 \u001b[38;5;241m=\u001b[39m divPoint \n\u001b[1;32m     53\u001b[0m mp2 \u001b[38;5;241m=\u001b[39m divPoint\u001b[38;5;241m*\u001b[39m\u001b[38;5;241m2\u001b[39m\n\u001b[0;32m---> 55\u001b[0m l \u001b[38;5;241m=\u001b[39m \u001b[43mthreeWay\u001b[49m\u001b[43m(\u001b[49m\u001b[43marr\u001b[49m\u001b[43m[\u001b[49m\u001b[43m:\u001b[49m\u001b[43mmp1\u001b[49m\u001b[43m]\u001b[49m\u001b[43m)\u001b[49m \u001b[38;5;66;03m# grab beginning to mp1\u001b[39;00m\n\u001b[1;32m     56\u001b[0m m \u001b[38;5;241m=\u001b[39m threeWay(arr[mp1:mp2]) \u001b[38;5;66;03m# slice from mp1 to mp2\u001b[39;00m\n\u001b[1;32m     57\u001b[0m r \u001b[38;5;241m=\u001b[39m threeWay(arr[mp2:]) \u001b[38;5;66;03m# array from second \"midpoint\" to end\u001b[39;00m\n",
      "File \u001b[0;32m~/Library/CloudStorage/OneDrive-Personal/Documents/Outsource/Python/CS361/361-Final-Project/three_way_time.py:55\u001b[0m, in \u001b[0;36mthreeWay\u001b[0;34m(arr)\u001b[0m\n\u001b[1;32m     52\u001b[0m mp1 \u001b[38;5;241m=\u001b[39m divPoint \n\u001b[1;32m     53\u001b[0m mp2 \u001b[38;5;241m=\u001b[39m divPoint\u001b[38;5;241m*\u001b[39m\u001b[38;5;241m2\u001b[39m\n\u001b[0;32m---> 55\u001b[0m l \u001b[38;5;241m=\u001b[39m \u001b[43mthreeWay\u001b[49m\u001b[43m(\u001b[49m\u001b[43marr\u001b[49m\u001b[43m[\u001b[49m\u001b[43m:\u001b[49m\u001b[43mmp1\u001b[49m\u001b[43m]\u001b[49m\u001b[43m)\u001b[49m \u001b[38;5;66;03m# grab beginning to mp1\u001b[39;00m\n\u001b[1;32m     56\u001b[0m m \u001b[38;5;241m=\u001b[39m threeWay(arr[mp1:mp2]) \u001b[38;5;66;03m# slice from mp1 to mp2\u001b[39;00m\n\u001b[1;32m     57\u001b[0m r \u001b[38;5;241m=\u001b[39m threeWay(arr[mp2:]) \u001b[38;5;66;03m# array from second \"midpoint\" to end\u001b[39;00m\n",
      "File \u001b[0;32m~/Library/CloudStorage/OneDrive-Personal/Documents/Outsource/Python/CS361/361-Final-Project/three_way_time.py:57\u001b[0m, in \u001b[0;36mthreeWay\u001b[0;34m(arr)\u001b[0m\n\u001b[1;32m     55\u001b[0m l \u001b[38;5;241m=\u001b[39m threeWay(arr[:mp1]) \u001b[38;5;66;03m# grab beginning to mp1\u001b[39;00m\n\u001b[1;32m     56\u001b[0m m \u001b[38;5;241m=\u001b[39m threeWay(arr[mp1:mp2]) \u001b[38;5;66;03m# slice from mp1 to mp2\u001b[39;00m\n\u001b[0;32m---> 57\u001b[0m r \u001b[38;5;241m=\u001b[39m \u001b[43mthreeWay\u001b[49m\u001b[43m(\u001b[49m\u001b[43marr\u001b[49m\u001b[43m[\u001b[49m\u001b[43mmp2\u001b[49m\u001b[43m:\u001b[49m\u001b[43m]\u001b[49m\u001b[43m)\u001b[49m \u001b[38;5;66;03m# array from second \"midpoint\" to end\u001b[39;00m\n\u001b[1;32m     59\u001b[0m \u001b[38;5;28;01mreturn\u001b[39;00m merge3Arrs(l,m,r)\n",
      "File \u001b[0;32m~/Library/CloudStorage/OneDrive-Personal/Documents/Outsource/Python/CS361/361-Final-Project/three_way_time.py:59\u001b[0m, in \u001b[0;36mthreeWay\u001b[0;34m(arr)\u001b[0m\n\u001b[1;32m     56\u001b[0m m \u001b[38;5;241m=\u001b[39m threeWay(arr[mp1:mp2]) \u001b[38;5;66;03m# slice from mp1 to mp2\u001b[39;00m\n\u001b[1;32m     57\u001b[0m r \u001b[38;5;241m=\u001b[39m threeWay(arr[mp2:]) \u001b[38;5;66;03m# array from second \"midpoint\" to end\u001b[39;00m\n\u001b[0;32m---> 59\u001b[0m \u001b[38;5;28;01mreturn\u001b[39;00m \u001b[43mmerge3Arrs\u001b[49m\u001b[43m(\u001b[49m\u001b[43ml\u001b[49m\u001b[43m,\u001b[49m\u001b[43mm\u001b[49m\u001b[43m,\u001b[49m\u001b[43mr\u001b[49m\u001b[43m)\u001b[49m\n",
      "File \u001b[0;32m~/Library/CloudStorage/OneDrive-Personal/Documents/Outsource/Python/CS361/361-Final-Project/three_way_time.py:28\u001b[0m, in \u001b[0;36mmerge3Arrs\u001b[0;34m(left, middle, right)\u001b[0m\n\u001b[1;32m     25\u001b[0m     \u001b[38;5;28;01mbreak\u001b[39;00m\n\u001b[1;32m     27\u001b[0m \u001b[38;5;66;03m# vals = [(10, 'l'), (2, 'm'), (5, 'r')] -> smallest = 2, source = left\u001b[39;00m\n\u001b[0;32m---> 28\u001b[0m smallest, source \u001b[38;5;241m=\u001b[39m \u001b[38;5;28;43mmin\u001b[39;49m\u001b[43m(\u001b[49m\u001b[43mvalues\u001b[49m\u001b[43m,\u001b[49m\u001b[43m \u001b[49m\u001b[43mkey\u001b[49m\u001b[38;5;241;43m=\u001b[39;49m\u001b[38;5;28;43;01mlambda\u001b[39;49;00m\u001b[43m \u001b[49m\u001b[43mx\u001b[49m\u001b[43m:\u001b[49m\u001b[43m \u001b[49m\u001b[43mx\u001b[49m\u001b[43m[\u001b[49m\u001b[38;5;241;43m0\u001b[39;49m\u001b[43m]\u001b[49m\u001b[43m)\u001b[49m\n\u001b[1;32m     30\u001b[0m \u001b[38;5;66;03m# grab tuple with the smallest value, append to result from respective list, \u001b[39;00m\n\u001b[1;32m     31\u001b[0m \u001b[38;5;66;03m# increment respective pointer\u001b[39;00m\n\u001b[1;32m     32\u001b[0m \u001b[38;5;28;01mif\u001b[39;00m source \u001b[38;5;241m==\u001b[39m \u001b[38;5;124m'\u001b[39m\u001b[38;5;124mleft\u001b[39m\u001b[38;5;124m'\u001b[39m:\n",
      "File \u001b[0;32m~/Library/CloudStorage/OneDrive-Personal/Documents/Outsource/Python/CS361/361-Final-Project/three_way_time.py:28\u001b[0m, in \u001b[0;36mmerge3Arrs.<locals>.<lambda>\u001b[0;34m(x)\u001b[0m\n\u001b[1;32m     25\u001b[0m     \u001b[38;5;28;01mbreak\u001b[39;00m\n\u001b[1;32m     27\u001b[0m \u001b[38;5;66;03m# vals = [(10, 'l'), (2, 'm'), (5, 'r')] -> smallest = 2, source = left\u001b[39;00m\n\u001b[0;32m---> 28\u001b[0m smallest, source \u001b[38;5;241m=\u001b[39m \u001b[38;5;28mmin\u001b[39m(values, key\u001b[38;5;241m=\u001b[39m\u001b[38;5;28;01mlambda\u001b[39;00m x: x[\u001b[38;5;241m0\u001b[39m])\n\u001b[1;32m     30\u001b[0m \u001b[38;5;66;03m# grab tuple with the smallest value, append to result from respective list, \u001b[39;00m\n\u001b[1;32m     31\u001b[0m \u001b[38;5;66;03m# increment respective pointer\u001b[39;00m\n\u001b[1;32m     32\u001b[0m \u001b[38;5;28;01mif\u001b[39;00m source \u001b[38;5;241m==\u001b[39m \u001b[38;5;124m'\u001b[39m\u001b[38;5;124mleft\u001b[39m\u001b[38;5;124m'\u001b[39m:\n",
      "\u001b[0;31mKeyboardInterrupt\u001b[0m: "
     ]
    }
   ],
   "source": [
    "# Benchmark sorting algorithms\n",
    "RESULTS_FILE = \"benchmark_results.txt\"\n",
    "with open(RESULTS_FILE, \"w\") as f:\n",
    "    header = f\"{'Size':>12} | \" + \" | \".join(\n",
    "        f\"{name:>20}\" for name in SORTING_ALGORITHMS\n",
    "    )\n",
    "    f.write(header + \"\\n\")\n",
    "    f.write(\"-\" * (12 + 23 * len(SORTING_ALGORITHMS)) + \"\\n\")\n",
    "    print(header)\n",
    "    print(\"-\" * (12 + 23 * len(SORTING_ALGORITHMS)))\n",
    "    for size in SIZES:\n",
    "        arr_path = os.path.join(ARRAY_DIR, f\"array_2^{size.bit_length()-1}.npy\")\n",
    "        arr = np.load(arr_path)\n",
    "        results = []\n",
    "        for name, sort_fn in SORTING_ALGORITHMS.items():\n",
    "            try:\n",
    "                data = arr.copy().tolist()\n",
    "                start = time.perf_counter()\n",
    "                sort_fn(data)\n",
    "                end = time.perf_counter()\n",
    "                elapsed = end - start\n",
    "                results.append(f\"{elapsed:>20.4f}s\")\n",
    "            except MemoryError:\n",
    "                results.append(f\"{'OOM':>20}\")\n",
    "            except Exception as e:\n",
    "                results.append(f\"{'ERR':>20}\")\n",
    "        line = f\"{size:12} | \" + \" | \".join(results)\n",
    "        print(line)\n",
    "        f.write(line + \"\\n\")"
   ]
  },
  {
   "cell_type": "code",
   "execution_count": null,
   "metadata": {},
   "outputs": [],
   "source": [
    "built_in_times = [0.2815, 0.5324, 1.0629, 2.1008, 4.7434, 9.8894, 21.5655, 50.3555]\n",
    "custom_timsort_time = [\n",
    "    3.6895,\n",
    "    8.1813,\n",
    "    17.7416,\n",
    "    37.6043,\n",
    "    85.1757,\n",
    "    182.9888,\n",
    "    399.6702,\n",
    "    919.24146,\n",
    "]\n",
    "\n",
    "# X axis: 2^20 to 2^27 for your data, but you want up to 2^30 for the graph\n",
    "x_labels = [f\"2^{i}\" for i in range(20, 31)]\n",
    "x_ticks = np.arange(20, 31)\n",
    "\n",
    "\n",
    "# Pad the data with None or np.nan for missing values up to 2^30\n",
    "def pad_to_length(lst, length):\n",
    "    return lst + [np.nan] * (length - len(lst))\n",
    "\n",
    "\n",
    "built_in_times = pad_to_length(built_in_times, len(x_labels))\n",
    "custom_timsort_time = pad_to_length(custom_timsort_time, len(x_labels))\n",
    "\n",
    "plt.figure(figsize=(10, 6))\n",
    "plt.plot(x_labels, built_in_times, marker=\"o\", label=\"Python Built-in Sort\")\n",
    "plt.plot(x_labels, custom_timsort_time, marker=\"o\", label=\"Custom TimSort\")\n",
    "plt.xlabel(\"Array Size\")\n",
    "plt.ylabel(\"Runtime (seconds)\")\n",
    "plt.title(\"Runtime Growth of Sorting Algorithms\")\n",
    "plt.legend()\n",
    "plt.grid(True)\n",
    "plt.tight_layout()\n",
    "plt.show()"
   ]
  },
  {
   "cell_type": "code",
   "execution_count": null,
   "metadata": {},
   "outputs": [],
   "source": [
    "import matplotlib.pyplot as plt\n",
    "import numpy as np\n",
    "\n",
    "# Sizes and labels\n",
    "sizes = [1048576, 2097152, 4194304, 8388608, 16777216]\n",
    "x_labels = [f\"2^{i}\" for i in range(20, 25)]\n",
    "\n",
    "# Runtimes for each algorithm (in seconds)\n",
    "tim_sort = [3.8816, 9.1561, 20.5777, 46.2002, 83.7137]\n",
    "quad_heap = [8.2204, 17.9510, 39.5824, 89.1727, 158.1807]\n",
    "rand_qs = [3.4433, 7.4349, 16.1348, 35.3018, 73.6968]\n",
    "three_way = [13.4340, 28.6843, 60.0150, 124.4200, 259.7362]\n",
    "py_builtin = [0.2236, 0.5009, 1.0977, 2.0725, 4.7166]\n",
    "\n",
    "plt.figure(figsize=(10, 6))\n",
    "plt.plot(x_labels, tim_sort, marker=\"o\", label=\"TimSort\")\n",
    "plt.plot(x_labels, quad_heap, marker=\"o\", label=\"Quad Heap\")\n",
    "plt.plot(x_labels, rand_qs, marker=\"o\", label=\"Randomized QuickSort\")\n",
    "plt.plot(x_labels, three_way, marker=\"o\", label=\"Three-Way Merge\")\n",
    "plt.plot(x_labels, py_builtin, marker=\"o\", label=\"Python Built-in\")\n",
    "\n",
    "plt.xlabel(\"Array Size\")\n",
    "plt.ylabel(\"Runtime (seconds)\")\n",
    "plt.title(\"Runtime Growth of Sorting Algorithms\")\n",
    "plt.legend()\n",
    "plt.grid(True)\n",
    "plt.tight_layout()\n",
    "plt.show()"
   ]
  }
 ],
 "metadata": {
  "kernelspec": {
   "display_name": "Python 3",
   "language": "python",
   "name": "python3"
  },
  "language_info": {
   "codemirror_mode": {
    "name": "ipython",
    "version": 3
   },
   "file_extension": ".py",
   "mimetype": "text/x-python",
   "name": "python",
   "nbconvert_exporter": "python",
   "pygments_lexer": "ipython3",
   "version": "3.9.6"
  }
 },
 "nbformat": 4,
 "nbformat_minor": 2
}
